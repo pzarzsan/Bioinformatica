{
 "cells": [
  {
   "cell_type": "markdown",
   "metadata": {},
   "source": [
    "# TRABAJO DE PYTHON\n",
    "\n",
    "### Este trabajo cuenta el 30% de la nota. La entrega será el 5 de Noviembre a las 23:59.\n",
    "\n",
    "### Resuelve los siguientes ejercicios en Python sin usar expresiones regulares\n",
    "\n",
    "#### Utiliza tantas celdas de código como necesites\n",
    "\n",
    "##\n",
    "\n",
    "\n",
    "\n",
    "\n",
    "\n",
    "\n",
    "\n"
   ]
  },
  {
   "cell_type": "markdown",
   "metadata": {},
   "source": [
    "### 1.- BUSCA LA SECUENCIA COMPLEMENTARIA\n",
    "#### Devuelve la secuencia complementaria de la siguiente secuencia de ADN"
   ]
  },
  {
   "cell_type": "code",
   "execution_count": 5,
   "metadata": {},
   "outputs": [],
   "source": [
    "my_dna = \"ACTGATCGATTACGTATAGTATTTGCTATCATACATATATATCGATGCGTTCAT\""
   ]
  },
  {
   "cell_type": "code",
   "execution_count": 6,
   "metadata": {},
   "outputs": [],
   "source": [
    "def secuencia_complementaria(my_adn):\n",
    "    complemento = {'A': 'T', 'T': 'A', 'C': 'G', 'G': 'C'}\n",
    "    complementaria = ''\n",
    "    for nucleotido in my_adn:\n",
    "        if nucleotido in complemento:\n",
    "            complementaria += complemento[nucleotido]\n",
    "        else:\n",
    "            complementaria += nucleotido\n",
    "    return complementaria\n",
    "\n"
   ]
  },
  {
   "cell_type": "code",
   "execution_count": 8,
   "metadata": {},
   "outputs": [
    {
     "name": "stdout",
     "output_type": "stream",
     "text": [
      "TGACTAGCTAATGCATATCATAAACGATAGTATGTATATATAGCTACGCAAGTA\n"
     ]
    }
   ],
   "source": [
    "my_adn = \"ACTGATCGATTACGTATAGTATTTGCTATCATACATATATATCGATGCGTTCAT\"\n",
    "secuencia_comp = secuencia_complementaria(my_adn)\n",
    "print(secuencia_comp)"
   ]
  },
  {
   "cell_type": "code",
   "execution_count": null,
   "metadata": {},
   "outputs": [],
   "source": [
    "# Para devolver la secuencia complementaria, he utilizado un bucle para recorrer la cadena original y reemplazar cada nucleótido por su complemento. El complemento de un nucleótido A es T, el complemento de C es G y viceversa\n",
    "# \"secuencia_complementaria\" toma la cadena de ADN como entrada y devuelve su secuencia complementaria\n",
    "# La función también maneja otros caracteres, en caso de N, que no sean A, T, C o G sin cambiarlos en la secuencia complementaria"
   ]
  },
  {
   "cell_type": "markdown",
   "metadata": {},
   "source": [
    "##\n",
    "### 2.- FRAGMENTOS DE RESTRICCION\n",
    "#### Obtén los fragmentos de restricción de EcoRI, que tiene un sitio de corte en G*AATTC (la posición de corte se indica por el *).\n",
    "#### No uses expresiones regulares. \n",
    "#### Pista: utiliza la función find()"
   ]
  },
  {
   "cell_type": "code",
   "execution_count": 1,
   "metadata": {
    "scrolled": true
   },
   "outputs": [],
   "source": [
    "my_dna = \"ACTGATCGATTACGTATAGTATTTGCTATGAATTCCATACATATATATCGATGCGTTCAT\"\n",
    "sitio_de_corte = \"GAATTC\""
   ]
  },
  {
   "cell_type": "code",
   "execution_count": 2,
   "metadata": {},
   "outputs": [],
   "source": [
    "posicion_corte = my_dna.find(sitio_de_corte)\n",
    "# para encontrar la posición del sitio de corte en la secuencia"
   ]
  },
  {
   "cell_type": "code",
   "execution_count": 3,
   "metadata": {},
   "outputs": [
    {
     "name": "stdout",
     "output_type": "stream",
     "text": [
      "Fragmento 1: ACTGATCGATTACGTATAGTATTTGCTATGAATTC\n",
      "Fragmento 2: CATACATATATATCGATGCGTTCAT\n"
     ]
    }
   ],
   "source": [
    "# con esto verificamos si se ha encontrado el sitio de corte\n",
    "if posicion_corte != -1:\n",
    "    # dividimos la secuencia en los fragmentos de restricción\n",
    "    fragmento_1 = my_dna[:posicion_corte + len(sitio_de_corte)]\n",
    "    fragmento_2 = my_dna[posicion_corte + len(sitio_de_corte):]\n",
    "\n",
    "    # para imprimir los fragmentos de restricción\n",
    "    print(\"Fragmento 1:\", fragmento_1)\n",
    "    print(\"Fragmento 2:\", fragmento_2)\n",
    "\n",
    "else:\n",
    "    print(\"El sitio de corte de EcoRI no se encontró en la secuencia.\")"
   ]
  },
  {
   "cell_type": "markdown",
   "metadata": {},
   "source": [
    "##\n",
    "### 3.- ENCUENTRA LOS EXONES\n",
    "#### Encuentra los exones en la siguiente secuencia\n",
    "1. El primer exón va de la primera base a la base 63 (empieza a contar desde 0)\n",
    "2. El segundo exón va de la base 91 (contando desde 0) hasta el final\n",
    "3. Calcula el porcentaje de secuencia codificante\n",
    "4. Imprime en pantalla la secuencia original con los exones en mayúsculas y los intrones en minúsculas"
   ]
  },
  {
   "cell_type": "code",
   "execution_count": 5,
   "metadata": {},
   "outputs": [],
   "source": [
    "genomic_dna = \"ATCGATCGATCGATCGACTGACTAGTCATAGCTATGCATGTAGCTACTCGATCGATCGATCGATCGATCGATCGATCGATCGATCATGCTATCATCGATCGATATCGATGCATCGACTACTAT\""
   ]
  },
  {
   "cell_type": "code",
   "execution_count": 6,
   "metadata": {},
   "outputs": [],
   "source": [
    "exon1 = genomic_dna[0:63]\n",
    "exon2 = genomic_dna[91:len(genomic_dna)]\n",
    "intron = genomic_dna[63:91]"
   ]
  },
  {
   "cell_type": "code",
   "execution_count": null,
   "metadata": {},
   "outputs": [],
   "source": [
    "# definimos las posiciones en las que se encuentran los exones e intrones"
   ]
  },
  {
   "cell_type": "code",
   "execution_count": 7,
   "metadata": {},
   "outputs": [
    {
     "name": "stdout",
     "output_type": "stream",
     "text": [
      "Porcentaje de secuencia codificante: 77.23577235772358 %\n"
     ]
    }
   ],
   "source": [
    "# unimos los exones para obtener la secuencia codificante\n",
    "secuencia_codificante = exon1 + exon2\n",
    "longitud_codificante = len(secuencia_codificante)\n",
    "longitud_total = len(genomic_dna)\n",
    "\n",
    "# calculamos el porcentaje de secuencia codificante\n",
    "porcentaje_codificante = (longitud_codificante / longitud_total) * 100\n",
    "\n",
    "print(\"Porcentaje de secuencia codificante:\", porcentaje_codificante, \"%\")"
   ]
  },
  {
   "cell_type": "code",
   "execution_count": null,
   "metadata": {},
   "outputs": [],
   "source": [
    "# para calcular el porcentaje debemos conocer el valor de longitud de la secuencia codificante y la total\n",
    "# definimos la longitud de la secuencia codificante sumando solo los dos exones\n",
    "# usamos len() para saber la longitud total"
   ]
  },
  {
   "cell_type": "code",
   "execution_count": 8,
   "metadata": {},
   "outputs": [
    {
     "name": "stdout",
     "output_type": "stream",
     "text": [
      "ATCGATCGATCGATCGACTGACTAGTCATAGCTATGCATGTAGCTACTCGATCGATCGATCGAtcgatcgatcgatcgatcgatcatgctaTCATCGATCGATATCGATGCATCGACTACTAT\n"
     ]
    }
   ],
   "source": [
    "secuencia_cambiada = exon1.upper() + intron.lower() + exon2.upper()\n",
    "print(secuencia_cambiada)"
   ]
  },
  {
   "cell_type": "code",
   "execution_count": null,
   "metadata": {},
   "outputs": [],
   "source": [
    "# utilizamos la función.upper para dejar en mayúsculas las secuencias de los exones\n",
    "# utilizamos la función.lower para dejar en minúsculas la secuencia del intrón"
   ]
  },
  {
   "cell_type": "markdown",
   "metadata": {},
   "source": [
    "##\n",
    "### 4.- ESCRIBE UN ARCHIVO FASTA\n",
    "#### Escribe un archivo FASTA que tenga las siguientes secuencias:\n",
    "1. ABC123 \tATCGTACGATCGATCGATCGCTAGACGTATCG\n",
    "2. DEF456 \tactgatcgacgatcgatcgatcacgact\n",
    "3. HIJ789 \tACTGAC-ACTGT--ACTGTA----CATGTG\n",
    "\n",
    "###### *Ten en cuenta que todas las secuencias deben tener solo ATGC caracteres y tienen que estar en mayúsculas\n",
    "###### Recuerda que las secuencias en FASTA empiezan por una línea \">identificador\" y la siguiente línea tiene la secuencia\n",
    "\n",
    "###### >ABC123\n",
    "###### ATCGTACGATCGATCGATCGCTAGACGTATCG\n",
    "###### >DEF456\n",
    "###### ACTGATCGACGATCGATCGATCACGACT\n",
    "###### >HIJ789\n",
    "###### ACTGACACTGTACTGTACATGTG"
   ]
  },
  {
   "cell_type": "code",
   "execution_count": 45,
   "metadata": {},
   "outputs": [
    {
     "name": "stdout",
     "output_type": "stream",
     "text": [
      "ABC123\n",
      "ATCGTACGATCGATCGATCGCTAGACGTATCG\n",
      "DEF456\n",
      "actgatcgacgatcgatcgatcacgact\n",
      "HIJ789\n",
      "ACTGAC-ACTGT--ACTGTA----CATGTG\n"
     ]
    }
   ],
   "source": [
    "diccionario={\n",
    "    'ABC123' :'ATCGTACGATCGATCGATCGCTAGACGTATCG',\n",
    "    'DEF456' : 'actgatcgacgatcgatcgatcacgact',\n",
    "    'HIJ789' : 'ACTGAC-ACTGT--ACTGTA----CATGTG'\n",
    "}\n",
    "\n",
    "for key in diccionario.keys():\n",
    "    print(key)\n",
    "    print(diccionario[key])"
   ]
  },
  {
   "cell_type": "code",
   "execution_count": 46,
   "metadata": {},
   "outputs": [],
   "source": [
    "# para formatear una secuencia en mayúsculas y con saltos de línea\n",
    "def secuencia_cambiada(seq):\n",
    "    seq = seq.replace('-', '') # eliminar guiones '-' de la secuencia\n",
    "    seq = seq.upper()\n",
    "    secuencia_cambiada = ''\n",
    "    for i in range(0, len(seq), 35): # dividir la secuencia en líneas de 35 caracteres\n",
    "        secuencia_cambiada += seq[i:i+35] + '\\n'\n",
    "    return secuencia_cambiada\n"
   ]
  },
  {
   "cell_type": "code",
   "execution_count": 47,
   "metadata": {},
   "outputs": [],
   "source": [
    "# para escribir el archivo FASTA\n",
    "with open('secuencia.fasta', 'w') as fasta_file:\n",
    "    for identifier, sequence in diccionario.items():\n",
    "        fasta_file.write('>' + identifier + '\\n')\n",
    "        fasta_file.write(secuencia_cambiada(sequence))"
   ]
  },
  {
   "cell_type": "markdown",
   "metadata": {},
   "source": [
    "##\n",
    "### 5.- ELIMINA ADAPTADORES\n",
    "#### El archivo input.txt tiene unas secuencias de ADN, una por línea. \n",
    "#### Todas las secuencias empiezan con el mismo adaptador que llega hasta la base 14. Escribe un programa que:\n",
    "1. Remueva el adaptador de la secuencia y escriba la secuencia limpia en un archivo\n",
    "2. Imprima en pantalla la longitud de cada secuencia limpia"
   ]
  },
  {
   "cell_type": "code",
   "execution_count": 7,
   "metadata": {},
   "outputs": [
    {
     "name": "stdout",
     "output_type": "stream",
     "text": [
      "Longitud de la secuencia limpia: 43\n",
      "Longitud de la secuencia limpia: 38\n",
      "Longitud de la secuencia limpia: 49\n",
      "Longitud de la secuencia limpia: 34\n",
      "Longitud de la secuencia limpia: 47\n"
     ]
    }
   ],
   "source": [
    "# para abrir el archivo de entrada para lectura y el archivo de salida para escritura\n",
    "with open(\"input.txt\", \"r\") as input_file, open(\"secuencias_limpia.txt\", \"w\") as output_file:\n",
    "    # con esto leemos cada línea del archivo de entrada\n",
    "    for line in input_file:\n",
    "        # eliminamos el adaptador cogiendo solo los caracteres desde la posición 15 en adelante\n",
    "        secuencia_limpia = line[14:]\n",
    "        \n",
    "        # escribimos la secuencia limpia en el archivo de salida\n",
    "        output_file.write(secuencia_limpia)\n",
    "        \n",
    "        # para imprimir la longitud de la secuencia limpia en pantalla\n",
    "        print(f\"Longitud de la secuencia limpia: {len(secuencia_limpia)}\")\n",
    "\n",
    "# cerramos los archivos\n",
    "input_file.close()\n",
    "output_file.close()\n"
   ]
  },
  {
   "cell_type": "markdown",
   "metadata": {},
   "source": [
    "##\n",
    "### 6.- PORCENTAJE DE AMINO ACIDOS\n",
    "#### Escribe una función que tome dos argumentos: una secuencia de proteínas y un amino ácido. \n",
    "#### Queremos que devuelva el porcentaje del amino ácido en la secuencia de proteínas. \n",
    "#### Una vez que tengas hecha tu función, emplea las siguientes aserciones para comprobar tu código."
   ]
  },
  {
   "cell_type": "code",
   "execution_count": 9,
   "metadata": {},
   "outputs": [],
   "source": [
    "def porcentaje_aminoacidos(secuencia_proteina, aminoacido):\n",
    "    # esto convierte la secuencia de proteínas y el aminoácido a mayúsculas para hacer la comparación insensible a mayúsculas/minúsculas\n",
    "    secuencia_proteina = secuencia_proteina.upper()\n",
    "    aminoacido = aminoacido.upper()\n",
    "    \n",
    "    # para contar la cantidad del aminoácido en la secuencia\n",
    "    cantidad_aminoacido = secuencia_proteina.count(aminoacido)\n",
    "    \n",
    "    # para calcular el porcentaje\n",
    "    longitud_sec = len(secuencia_proteina)\n",
    "    porcentaje = (cantidad_aminoacido / longitud_sec) * 100\n",
    "    \n",
    "    return porcentaje\n",
    "    "
   ]
  },
  {
   "cell_type": "code",
   "execution_count": 10,
   "metadata": {},
   "outputs": [
    {
     "name": "stdout",
     "output_type": "stream",
     "text": [
      "El porcentaje de M en la secuencia de proteínas es: 5.00%\n"
     ]
    }
   ],
   "source": [
    "secuencia_proteina = \"MSRSLLLRFLLFLLLLPPLP\"\n",
    "aminoacido = \"M\"\n",
    "porcentaje_M = porcentaje_aminoacidos (secuencia_proteina, aminoacido)\n",
    "print(f\"El porcentaje de {aminoacido} en la secuencia de proteínas es: {porcentaje_M:.2f}%\")"
   ]
  },
  {
   "cell_type": "code",
   "execution_count": 11,
   "metadata": {},
   "outputs": [],
   "source": [
    "assert porcentaje_aminoacidos(\"MSRSLLLRFLLFLLLLPPLP\", \"M\") ==5"
   ]
  },
  {
   "cell_type": "code",
   "execution_count": 12,
   "metadata": {},
   "outputs": [
    {
     "name": "stdout",
     "output_type": "stream",
     "text": [
      "El porcentaje de r en la secuencia de proteínas es: 10.00%\n"
     ]
    }
   ],
   "source": [
    "secuencia_proteina = \"MSRSLLLRFLLFLLLLPPLP\"\n",
    "aminoacido = \"r\"\n",
    "porcentaje_r = porcentaje_aminoacidos (secuencia_proteina, aminoacido)\n",
    "print(f\"El porcentaje de {aminoacido} en la secuencia de proteínas es: {porcentaje_r:.2f}%\")"
   ]
  },
  {
   "cell_type": "code",
   "execution_count": 13,
   "metadata": {},
   "outputs": [],
   "source": [
    "assert porcentaje_aminoacidos(\"MSRSLLLRFLLFLLLLPPLP\", \"r\") ==10"
   ]
  },
  {
   "cell_type": "code",
   "execution_count": 14,
   "metadata": {},
   "outputs": [
    {
     "name": "stdout",
     "output_type": "stream",
     "text": [
      "El porcentaje de L en la secuencia de proteínas es: 50.00%\n"
     ]
    }
   ],
   "source": [
    "secuencia_proteina = \"msrslllrfllfllllpplp\"\n",
    "aminoacido = \"L\"\n",
    "porcentaje_L = porcentaje_aminoacidos (secuencia_proteina, aminoacido)\n",
    "print(f\"El porcentaje de {aminoacido} en la secuencia de proteínas es: {porcentaje_L:.2f}%\")"
   ]
  },
  {
   "cell_type": "code",
   "execution_count": 15,
   "metadata": {},
   "outputs": [],
   "source": [
    "assert porcentaje_aminoacidos(\"msrslllrfllfllllpplp\", \"L\") ==50"
   ]
  },
  {
   "cell_type": "code",
   "execution_count": 16,
   "metadata": {},
   "outputs": [
    {
     "name": "stdout",
     "output_type": "stream",
     "text": [
      "El porcentaje de Y en la secuencia de proteínas es: 0.00%\n"
     ]
    }
   ],
   "source": [
    "secuencia_proteina = \"MSRSLLLRFLLFLLLLPPLP\"\n",
    "aminoacido = \"Y\"\n",
    "porcentaje_Y = porcentaje_aminoacidos (secuencia_proteina, aminoacido)\n",
    "print(f\"El porcentaje de {aminoacido} en la secuencia de proteínas es: {porcentaje_Y:.2f}%\")"
   ]
  },
  {
   "cell_type": "code",
   "execution_count": 18,
   "metadata": {},
   "outputs": [],
   "source": [
    "assert porcentaje_aminoacidos(\"MSRSLLLRFLLFLLLLPPLP\", \"Y\") ==0"
   ]
  },
  {
   "cell_type": "code",
   "execution_count": null,
   "metadata": {},
   "outputs": [],
   "source": [
    "# estos códigos definen la función \"porcentaje_aminoacidos\", que luego se usará para calcular el porcentaje de aminoácidos en la secuencia de proteínas\n",
    "# la aserción se utiliza para verificar si el porcentaje calculado es igual en cada caso"
   ]
  }
 ],
 "metadata": {
  "kernelspec": {
   "display_name": "Python 3 (ipykernel)",
   "language": "python",
   "name": "python3"
  },
  "language_info": {
   "codemirror_mode": {
    "name": "ipython",
    "version": 3
   },
   "file_extension": ".py",
   "mimetype": "text/x-python",
   "name": "python",
   "nbconvert_exporter": "python",
   "pygments_lexer": "ipython3",
   "version": "3.11.4"
  }
 },
 "nbformat": 4,
 "nbformat_minor": 4
}
